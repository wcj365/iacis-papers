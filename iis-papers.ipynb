{
 "cells": [
  {
   "cell_type": "markdown",
   "metadata": {},
   "source": [
    "Install pdfminer.six or pdfminer3 (https://github.com/gwk/pdfminer3/) install: pip install pdfminer3 I switched to pdfminer3 when I upgraded to 3.7 from 3.6 I use on ubuntu and macos with python 3.7.3\n",
    "\n",
    "pdfminer3 comes with two handy tools: pdf2txt.py and dumppdf.py examine the source. Fairly small and easy to understand.\n",
    "\n",
    "Following is a working example (once the location of the pdf file is added)"
   ]
  },
  {
   "cell_type": "code",
   "execution_count": 2,
   "metadata": {},
   "outputs": [],
   "source": [
    "import numpy as np\n",
    "import pandas as pd\n",
    "import requests \n",
    "from bs4 import BeautifulSoup\n",
    "import matplotlib.pyplot as plt\n",
    "import re"
   ]
  },
  {
   "cell_type": "code",
   "execution_count": 3,
   "metadata": {},
   "outputs": [
    {
     "name": "stdout",
     "output_type": "stream",
     "text": [
      "<!DOCTYPE html PUBLIC \"-//W3C//DTD XHTML 1.0 Strict//EN\" \"http://www.w3.org/TR/xhtml1/DTD/xhtml1-strict.dtd\">\n",
      "<html xmlns=\"http://www.w3.org/1999/xhtml\">\n",
      " <head>\n",
      "  <meta content=\"text/html; charset=utf-8\" http-equiv=\"Content-Type\"/>\n",
      "  <!-- page title -->\n",
      "  <title>\n",
      "   International Association for Computer Information Systems\n",
      "  </title>\n",
      "  <link href=\"../css/core.css\" rel=\"stylesheet\" type=\"text/css\"/>\n",
      "  <meta content=\"International Association for Computer Information Systems is a nonprofit association dedicated to the improvement of information systems and the education of information systems and computer professionals. These goals are accomplished through various activities, recognition awards, and publications.\" name=\"description\"/>\n",
      "  <meta content=\"Information systems, computer professionals, information systems education, information technology, awards, publications, IS journals, IS conference, academic journal, international conference, journal of computer information systems, issues in information systems journal, membership, IT forum, IS forum, MIS forum\" name=\"keywords\"/>\n",
      " </head>\n",
      " <body>\n",
      "  <div id=\"wrapper\">\n",
      "   <div class=\"clear\" id=\"sitename\">\n",
      "    <!-- LOGO -->\n",
      "    <img alt=\"\" border=\"0\" height=\"67\" src=\"../images/IACIS_logo.jpg\" title=\"\" width=\"239\"/>\n",
      "    <br/>\n",
      "    <font color=\"#003366\" face=\"Arial\" size=\"3\">\n",
      "     <b>\n",
      "      International Association for Computer Information Systems\n",
      "     </b>\n",
      "    </font>\n",
      "    <div align=\"right\">\n",
      "     Sunday, December 22, 2019\n",
      "    </div>\n",
      "   </div>\n",
      "   <div id=\"navbar\">\n",
      "    <div class=\"clear\">\n",
      "     <ul class=\"sf-menu clear\">\n",
      "      <!-- PAGE NAVIGATION -->\n",
      "      <li>\n",
      "       <a href=\"../index.php\">\n",
      "        <span>\n",
      "         Home\n",
      "        </span>\n",
      "       </a>\n",
      "      </li>\n",
      "      <li>\n",
      "       <a href=\"../jcis/jcis.php\">\n",
      "        <span>\n",
      "         JCIS\n",
      "        </span>\n",
      "       </a>\n",
      "      </li>\n",
      "      <li>\n",
      "       <a href=\"../join/join.php\">\n",
      "        <span>\n",
      "         Join\n",
      "        </span>\n",
      "       </a>\n",
      "      </li>\n",
      "      <li>\n",
      "       <a href=\"../conference/conference.php\">\n",
      "        <span>\n",
      "         IACIS Annual Conference\n",
      "        </span>\n",
      "       </a>\n",
      "      </li>\n",
      "      <li>\n",
      "       <a href=\"../awards/awards.php\">\n",
      "        <span>\n",
      "         Awards\n",
      "        </span>\n",
      "       </a>\n",
      "      </li>\n",
      "      <li>\n",
      "       <a href=\"../iis/iis.php\">\n",
      "        <span>\n",
      "         IIS\n",
      "        </span>\n",
      "       </a>\n",
      "      </li>\n",
      "      <li>\n",
      "       <a href=\"../officers/officers.php\">\n",
      "        <span>\n",
      "         Officers\n",
      "        </span>\n",
      "       </a>\n",
      "      </li>\n",
      "      <li>\n",
      "       <a href=\"../conference-europe/index.php\">\n",
      "        <span>\n",
      "         IACIS Conference - Europe\n",
      "        </span>\n",
      "       </a>\n",
      "      </li>\n",
      "     </ul>\n",
      "    </div>\n",
      "   </div>\n",
      "   <!-- HEADER -->\n",
      "   <div class=\"clear\" id=\"header\">\n",
      "    <div class=\"header-text\">\n",
      "     <h2>\n",
      "      Issues in Information Systems\n",
      "     </h2>\n",
      "    </div>\n",
      "   </div>\n",
      "   <div class=\"header-bottom\">\n",
      "   </div>\n",
      "   <div id=\"body-wrapper\">\n",
      "    <!-- BREADCRUMB NAVIGATION -->\n",
      "    <div class=\"bcnav\">\n",
      "     <div class=\"bcnav-left\">\n",
      "      <div class=\"bcnav-right clear\">\n",
      "       <!-- Words (if any) go here -->\n",
      "      </div>\n",
      "     </div>\n",
      "    </div>\n",
      "    <!-- Body Content -->\n",
      "    <div class=\"clear\" id=\"body\">\n",
      "     <div class=\"clear\">\n",
      "      <div class=\"column column-650 column-left\">\n",
      "       <h3>\n",
      "        IIS - Author Index Search Results\n",
      "       </h3>\n",
      "       <hr color=\"#2A4580\" noshade=\"\"/>\n",
      "       <br/>\n",
      "       <h4>\n",
      "        Results for Author:\n",
      "       </h4>\n",
      "       <a href=\"/iis/2019/1_iis_2019_1-11.pdf\">\n",
      "        /iis/2019/1_iis_2019_1-11.pdf\n",
      "       </a>\n",
      "       <br/>\n",
      "       <a href=\"/iis/2019/1_iis_2019_12-21.pdf\">\n",
      "        /iis/2019/1_iis_2019_12-21.pdf\n",
      "       </a>\n",
      "       <br/>\n",
      "       <a href=\"/iis/2019/1_iis_2019_22-31.pdf\">\n",
      "        /iis/2019/1_iis_2019_22-31.pdf\n",
      "       </a>\n",
      "       <br/>\n",
      "       <a href=\"/iis/2019/1_iis_2019_32-39.pdf\">\n",
      "        /iis/2019/1_iis_2019_32-39.pdf\n",
      "       </a>\n",
      "       <br/>\n",
      "       <a href=\"/iis/2019/1_iis_2019_40-48.pdf\">\n",
      "        /iis/2019/1_iis_2019_40-48.pdf\n",
      "       </a>\n",
      "       <br/>\n",
      "       <a href=\"/iis/2019/1_iis_2019_49-59.pdf\n"
     ]
    }
   ],
   "source": [
    "url = \"http://www.iacis.org/iis/author_index.php\"\n",
    "html_content = requests.get(url).text\n",
    "soup = BeautifulSoup(html_content, \"lxml\")\n",
    "print(soup.prettify()[:4000])"
   ]
  },
  {
   "cell_type": "code",
   "execution_count": 5,
   "metadata": {},
   "outputs": [
    {
     "name": "stdout",
     "output_type": "stream",
     "text": [
      "<div class=\"column column-650 column-left\">\n",
      " <h3>\n",
      "  IIS - Author Index Search Results\n",
      " </h3>\n",
      " <hr color=\"#2A4580\" noshade=\"\"/>\n",
      " <br/>\n",
      " <h4>\n",
      "  Results for Author:\n",
      " </h4>\n",
      " <a href=\"/iis/2019/1_iis_2019_1-11.pdf\">\n",
      "  /iis/2019/1_iis_2019_1-11.pdf\n",
      " </a>\n",
      " <br/>\n",
      " <a href=\"/iis/2019/1_iis_2019_12-21.pdf\">\n",
      "  /iis/2019/1_iis_2019_12-21.pdf\n",
      " </a>\n",
      " <br/>\n",
      " <a href=\"/iis/2019/1_iis_2019_22-31.pdf\">\n",
      "  /iis/2019/1_iis_2019_22-31.pdf\n",
      " </a>\n",
      " <br/>\n",
      " <a href=\"/iis/2019/1_iis_2019_32-39.pdf\">\n",
      "  /iis/2019/1_iis_2019_32-39.pdf\n",
      " </a>\n",
      " <br/>\n",
      " <a href=\"/iis/2019/1_iis_2019_40-48.pdf\">\n",
      "  /iis/2019/1_iis_2019_40-48.pdf\n",
      " </a>\n",
      " <br/>\n",
      " <a href=\"/iis/2019/1_iis_2019_49-59.pdf\">\n",
      "  /iis/2019/1_iis_2019_49-59.pdf\n",
      " </a>\n",
      " <br/>\n",
      " <a href=\"/iis/2019/1_iis_2019_60-69.pdf\">\n",
      "  /iis/2019/1_iis_2019_60-69.pdf\n",
      " </a>\n",
      " <br/>\n",
      " <a href=\"/iis/2019/1_iis_2019_70-79.pdf\">\n",
      "  /iis/2019/1_iis_2019_70-79.pdf\n",
      " </a>\n",
      " <br/>\n",
      " <a href=\"/iis/2019/1_iis_2019_80-87.pdf\">\n",
      "  /iis/2019/1_iis_2019_80-87.pdf\n",
      " </a>\n",
      " <br/>\n",
      " <a href=\"/iis/2019/1_iis_2019_88-99.pdf\">\n",
      "  /iis/2019/1_iis_2019_88-99.pdf\n",
      " </a>\n",
      " <br/>\n",
      " <a href=\"/iis/2019/1_iis_2019_100-107.pdf\">\n",
      "  /iis/2019/1_iis_2019_100-107.pdf\n",
      " </a>\n",
      " <br/>\n",
      " <a href=\"/iis/2019/1_iis_2019_108-118.pdf\">\n",
      "  /iis/2019/1_iis_2019_108-118.pdf\n",
      " </a>\n",
      " <br/>\n",
      " <a href=\"/iis/2019/1_iis_2019_119-133.pdf\">\n",
      "  /iis/2019/1_iis_2019_119-133.pdf\n",
      " </a>\n",
      " <br/>\n",
      " <a href=\"/iis/2019/1_iis_2019_134-143.pdf\">\n",
      "  /iis/2019/1_iis_2019_134-143.pdf\n",
      " </a>\n",
      " <br/>\n",
      " <a href=\"/iis/2019/1_iis_2019_144-156.pdf\">\n",
      "  /iis/2019/1_iis_2019_144-156.pdf\n",
      " </a>\n",
      " <br/>\n",
      " <a href=\"/iis/2019/1_iis_2019_157-167.pdf\">\n",
      "  /iis/2019/1_iis_2019_157-167.pdf\n",
      " </a>\n",
      " <br/>\n",
      " <a href=\"/iis/2019/1_iis_2019_168-177.pdf\">\n",
      "  /iis/2019/1_iis_2019_168-177.pdf\n",
      " </a>\n",
      " <br/>\n",
      " <a href=\"/iis/2019/1_iis_2019_178-185.pdf\">\n",
      "  /iis/2019/1_iis_2019_178-185.pdf\n",
      " </a>\n",
      " <br/>\n",
      " <a href=\"/iis/2019/1_iis_2019_186-194.pdf\">\n",
      "  /iis/2019/1_iis_2019_186-194.pdf\n",
      " </a>\n",
      " <br/>\n",
      " <a href=\"/iis/2019/1_iis_2019_195-203.pdf\">\n",
      "  /iis/2019/1_iis_2019_195-203.pdf\n",
      " </a>\n",
      " <br/>\n",
      " <a href=\"/ii\n"
     ]
    }
   ],
   "source": [
    "my_div = soup.find(\"div\",{\"class\":\"column column-650 column-left\"})\n",
    "print(my_div.prettify()[:2000]) \n"
   ]
  },
  {
   "cell_type": "code",
   "execution_count": 6,
   "metadata": {},
   "outputs": [
    {
     "data": {
      "text/plain": [
       "<a href=\"/iis/2019/2_iis_2019_83-88.pdf\">/iis/2019/2_iis_2019_83-88.pdf</a>"
      ]
     },
     "execution_count": 6,
     "metadata": {},
     "output_type": "execute_result"
    }
   ],
   "source": [
    "my_links = soup.findAll('a')\n",
    "my_links[40]"
   ]
  },
  {
   "cell_type": "code",
   "execution_count": 35,
   "metadata": {},
   "outputs": [
    {
     "data": {
      "text/plain": [
       "['http://www.iacis.org/iis/2019/4_iis_2019_188-197.pdf',\n",
       " 'http://www.iacis.org/iis/2015/4_iis_2015_183-193.pdf',\n",
       " 'http://iacis.org/iis/2014/94_iis_2014_98-102.pdf',\n",
       " 'http://iacis.org/iis/2014/93_iis_2014_89-97.pdf',\n",
       " 'http://iacis.org/iis/2014/62_iis_2014_8-13.pdf',\n",
       " 'http://iacis.org/iis/2014/92_iis_2014_77-88.pdf',\n",
       " 'http://iacis.org/iis/2014/91_iis_2014_67-76.pdf',\n",
       " 'http://iacis.org/iis/2014/88_iis_2014_59-66.pdf',\n",
       " 'http://iacis.org/iis/2014/86_iis_2014_49-58.pdf',\n",
       " 'http://iacis.org/iis/2014/29_iis_2014_450-463.pdf',\n",
       " 'http://iacis.org/iis/2014/113_iis_2014_441-449.pdf',\n",
       " 'http://iacis.org/iis/2014/18_iis_2014_431-440.pdf',\n",
       " 'http://iacis.org/iis/2014/10_iis_2014_421-430.pdf',\n",
       " 'http://iacis.org/iis/2014/149_iis_2014_411-420.pdf',\n",
       " 'http://iacis.org/iis/2014/148_iis_2014_399-410.pdf',\n",
       " 'http://iacis.org/iis/2014/146_iis_2014_393-398.pdf',\n",
       " 'http://iacis.org/iis/2014/85_iis_2014_39-48.pdf',\n",
       " 'http://iacis.org/iis/2014/144_iis_2014_383-392.pdf',\n",
       " 'http://iacis.org/iis/2014/141_iis_2014_375-382.pdf',\n",
       " 'http://iacis.org/iis/2014/140_iis_2014_367-374.pdf']"
      ]
     },
     "execution_count": 35,
     "metadata": {},
     "output_type": "execute_result"
    }
   ],
   "source": [
    "links = [link.get(\"href\") for link in my_links]\n",
    "links[0:20]"
   ]
  },
  {
   "cell_type": "code",
   "execution_count": 8,
   "metadata": {},
   "outputs": [
    {
     "name": "stdout",
     "output_type": "stream",
     "text": [
      "Issues in Information Systems Volume 20, Issue 1, pp. 178-185, 2019    178 PriVacy: THE MISSING “V” IN BIG DATA ANALYTICS Christopher B. Davison, Ball State University, cbdavison@bsu.edu Allen D. Truell, Ball State University, atruell@bsu.edu Edward J. Lazaros, Ball State University, ejlazaros@bsu.edu  Jensen J. Zhao, Ball State University, jzhao@bsu.edu     ABSTRACT  The descriptive models of Big Data found in the research literature generally neglect privacy as a component of big data.   Utilizing Cavoukian’s  (2011) Privacy by Design framework as a foundation, the authors propose an additional “V” to the Big Data descriptive model: priVacy.  The purpose of this paper is to present an expanded theoretical model of Big Data with privacy as a necessary component.  The implication is that privacy is an aspect of many data science domains including data analytics and cybersecurity with many concomitant legal and political ramifications.  Keywords: Privacy, Big Data, Cybersecurity, Data Model, Design, Data Analytics.     INTRODUCTION  Big data is a ubiquitous facet of modern life. Big data and data analytics provide competitive advantage and profitability to organizations.  As such, the market-driven rush to obtain this data often results in overlooked privacy considerations.  Consider the IBM Watson Health analytics that aggregates massive amounts of lifestyle and behavior data related to healthcare. This data is evaluated for socioeconomic factors and provided to insurance companies (Allen, 2018).  In this paper, the authors draw upon current research on big data models and privacy research to create a privacy cognizant big data model.    To present privacy in the big data model context, the authors begin this paper by providing a literature review.  The literature review will set the context and provide definitions associated with big data and information privacy. Following that, an expanded big data framework will be presented and discussed.     LITERATURE REVIEW  Privacy as a Right Warren and Brandeis (1890)  argue the right to privacy in their seminal work published in the Harvard Law Review.  This work is widely regard as the first legal conception of privacy as a right (Glancy, 1979) and is currently cited on Google Scholar more that 22,000 times.   In addition to the conceptualization of privacy as a right in the Warren and Brandeis (1890) work, they argue that the law lacks protections for what they deem the private person.  They cite malicious instances of photography and the publication of unauthorized photographs as evidence for the need to codify privacy as a right with legal redress.  Furthermore, they recant the “evil of the invasion of privacy by newspapers” ( p. 195) as a particularly egregious affront to individual privacy.    Solidifying the concept of privacy, Warren and Brandies (1890) cite a Judge Cooley’s definition of privacy as the right to be let alone.  Today, an expanded definition of information privacy is given as “the claim of individuals, groups, or institutions to determine for themselves when, how, and to what extent information about them is communicated to others” (Cavoukian, 2011, p. 6).   Interestingly, Warren and Brandeis (1890) discuss the intricacies and complexities of modern life making it necessary for individuals to be able to retreat to a private space and gain solitude  Today, most people would agree that modern life is even more intricate and complex thus making the right to privacy even more necessary.  \f",
      "\n"
     ]
    }
   ],
   "source": [
    "\n",
    "\n",
    "from pdfminer3.layout import LAParams, LTTextBox\n",
    "from pdfminer3.pdfpage import PDFPage\n",
    "from pdfminer3.pdfinterp import PDFResourceManager\n",
    "from pdfminer3.pdfinterp import PDFPageInterpreter\n",
    "from pdfminer3.converter import PDFPageAggregator\n",
    "from pdfminer3.converter import TextConverter\n",
    "import io\n",
    "\n",
    "resource_manager = PDFResourceManager()\n",
    "fake_file_handle = io.StringIO()\n",
    "converter = TextConverter(resource_manager, fake_file_handle)\n",
    "page_interpreter = PDFPageInterpreter(resource_manager, converter)\n",
    "\n",
    "with open('file-1.pdf', 'rb') as fh:\n",
    "\n",
    "    for page in PDFPage.get_pages(fh,\n",
    "                                  caching=True,\n",
    "                                  check_extractable=True):\n",
    "        page_interpreter.process_page(page)\n",
    "        break\n",
    "\n",
    "    text = fake_file_handle.getvalue()\n",
    "\n",
    "\n",
    "# close open handles\n",
    "converter.close()\n",
    "fake_file_handle.close()\n",
    "\n",
    "#print(text)"
   ]
  },
  {
   "cell_type": "code",
   "execution_count": 14,
   "metadata": {},
   "outputs": [
    {
     "data": {
      "text/plain": [
       "950"
      ]
     },
     "execution_count": 14,
     "metadata": {},
     "output_type": "execute_result"
    }
   ],
   "source": [
    "text.find(\"Keywords: \")\n"
   ]
  },
  {
   "cell_type": "code",
   "execution_count": 17,
   "metadata": {},
   "outputs": [
    {
     "data": {
      "text/plain": [
       "'Keywords: Privacy, Big Data, Cybersecurity, Data Model, Design, Data Analytics.     INTRODUCTION  Big data is a ubiquitous facet of modern life. Big data and data analytics provide competitive advantage and profitability to organizations.  As such, the market-driven rush to obtain this data often results in overlooked privacy considerations.  Consider the IBM Watson Health analytics that aggregates massive amounts of lifestyle and behavior data related to healthcare. This data is evaluated for socioeconomic factors and provided to insurance companies (Allen, 2018).  In this paper, the authors draw upon current research on big data models and privacy research to create a privacy cognizant big data model.    To present privacy in the big data model context, the authors begin this paper by providing a literature review.  The literature review will set the context and provide definitions associated with big data and information privacy. Following that, an expanded big data framework will be presented and discussed.     LITERATURE REVIEW  Privacy as a Right Warren and Brandeis (1890)  argue the right to privacy in their seminal work published in the Harvard Law Review.  This work is widely regard as the first legal conception of privacy as a right (Glancy, 1979) and is currently cited on Google Scholar more that 22,000 times.   In addition to the conceptualization of privacy as a right in the Warren and Brandeis (1890) work, they argue that the law lacks protections for what they deem the private person.  They cite malicious instances of photography and the publication of unauthorized photographs as evidence for the need to codify privacy as a right with legal redress.  Furthermore, they recant the “evil of the invasion of privacy by newspapers” ( p. 195) as a particularly egregious affront to individual privacy.    Solidifying the concept of privacy, Warren and Brandies (1890) cite a Judge Cooley’s definition of privacy as the right to be let alone.  Today, an expanded definition of information privacy is given as “the claim of individuals, groups, or institutions to determine for themselves when, how, and to what extent information about them is communicated to others” (Cavoukian, 2011, p. 6).   Interestingly, Warren and Brandeis (1890) discuss the intricacies and complexities of modern life making it necessary for individuals to be able to retreat to a private space and gain solitude  Today, most people would agree that modern life is even more intricate and complex thus making the right to privacy even more necessary.  \\x0c'"
      ]
     },
     "execution_count": 17,
     "metadata": {},
     "output_type": "execute_result"
    }
   ],
   "source": [
    "text2 = text[text.find(\"Keywords: \"):]\n",
    "text2"
   ]
  },
  {
   "cell_type": "code",
   "execution_count": 18,
   "metadata": {},
   "outputs": [
    {
     "data": {
      "text/plain": [
       "'Keywords: Privacy, Big Data, Cybersecurity, Data Model, Design, Data Analytics'"
      ]
     },
     "execution_count": 18,
     "metadata": {},
     "output_type": "execute_result"
    }
   ],
   "source": [
    "text3 =text2[:text2.find(\".\")]\n",
    "text3"
   ]
  },
  {
   "cell_type": "code",
   "execution_count": 19,
   "metadata": {},
   "outputs": [
    {
     "data": {
      "text/plain": [
       "'Privacy, Big Data, Cybersecurity, Data Model, Design, Data Analytics'"
      ]
     },
     "execution_count": 19,
     "metadata": {},
     "output_type": "execute_result"
    }
   ],
   "source": [
    "text4 = text3[10:]\n",
    "text4"
   ]
  },
  {
   "cell_type": "code",
   "execution_count": null,
   "metadata": {},
   "outputs": [],
   "source": []
  }
 ],
 "metadata": {
  "kernelspec": {
   "display_name": "Python 3",
   "language": "python",
   "name": "python3"
  },
  "language_info": {
   "codemirror_mode": {
    "name": "ipython",
    "version": 3
   },
   "file_extension": ".py",
   "mimetype": "text/x-python",
   "name": "python",
   "nbconvert_exporter": "python",
   "pygments_lexer": "ipython3",
   "version": "3.7.4"
  }
 },
 "nbformat": 4,
 "nbformat_minor": 2
}
